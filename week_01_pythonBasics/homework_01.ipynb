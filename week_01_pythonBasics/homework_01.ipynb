{
 "cells": [
  {
   "cell_type": "markdown",
   "id": "brutal-tunnel",
   "metadata": {},
   "source": [
    "## Math\n",
    "\n",
    "1. Sum all of the cubed positive integers up to $15^3$.\n",
    "\n",
    "2. Find the positive integer n such that $n + n^2 + n^3 + n^4 = 88740$.\n",
    "\n",
    "## File Handling\n",
    "\n",
    "3. There is a directory called \"images\" in this folder.\n",
    "a. (Level: easy) Can you loop through all the files and print their names.\n",
    "b. (Level: medium) \n",
    "c. (Level: hard)\n",
    "\n",
    "## Lists\n",
    "\n",
    "4. Create a list containing all the (relate this to neuroscience)"
   ]
  },
  {
   "cell_type": "code",
   "execution_count": null,
   "id": "integral-ownership",
   "metadata": {},
   "outputs": [],
   "source": []
  }
 ],
 "metadata": {
  "kernelspec": {
   "display_name": "Python 3",
   "language": "python",
   "name": "python3"
  },
  "language_info": {
   "codemirror_mode": {
    "name": "ipython",
    "version": 3
   },
   "file_extension": ".py",
   "mimetype": "text/x-python",
   "name": "python",
   "nbconvert_exporter": "python",
   "pygments_lexer": "ipython3",
   "version": "3.9.5"
  }
 },
 "nbformat": 4,
 "nbformat_minor": 5
}
