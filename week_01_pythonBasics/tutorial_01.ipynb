{
 "cells": [
  {
   "cell_type": "markdown",
   "metadata": {
    "id": "i34D6QxiCjsY"
   },
   "source": [
    "# Getting Started with Python\n",
    "\n",
    "In this tutorial we shall introduce the basics of python. These are the building blocks of any program that you shall write in this course.\n",
    "\n",
    "## Variables\n",
    "A name that is used to denote something or a value is called a variable. In python, variables can be declared and values can be assigned to it as follows,"
   ]
  },
  {
   "cell_type": "code",
   "execution_count": null,
   "metadata": {
    "id": "y5pWtVOQCeTU"
   },
   "outputs": [],
   "source": [
    "x = 42\n",
    "y = 11\n",
    "\n",
    "my_name = \"placeYourNameHere\""
   ]
  },
  {
   "cell_type": "code",
   "execution_count": null,
   "metadata": {
    "id": "0ZSxvFYtDNrE"
   },
   "outputs": [],
   "source": [
    "# you can print the value stored in these variables by using the print function\n",
    "\n",
    "# try printing your name here\n",
    "raise NotImplementedError(\"Student exercise: Print Name\")\n",
    "print(...)"
   ]
  },
  {
   "cell_type": "markdown",
   "metadata": {},
   "source": [
    "## Data Types\n",
    "\n",
    "Till now in the notebook, unlike C/C++/Java we've never mentioned the data type in Python. It almost seems like Python knows which type fits the variable.\n",
    "\n",
    "When variables are defined in the program, we can look at the type by using ```type(variable_name)```."
   ]
  },
  {
   "cell_type": "code",
   "execution_count": 1,
   "metadata": {},
   "outputs": [],
   "source": [
    "integer_type_variable = 1\n",
    "float_type_variable = 2.0\n",
    "string_type_variable = \"hello world\"\n",
    "another_string = \"hello again\"\n",
    "list_type_variable = [\"axon\", \"dendrite\", \"nucleus\", \"myelin sheath\"]"
   ]
  },
  {
   "cell_type": "code",
   "execution_count": null,
   "metadata": {},
   "outputs": [],
   "source": [
    "print(type(integer_type_variable))\n",
    "print(type(float_type_variable))\n",
    "\n",
    "int_plus_float = integer_type_variable + float_type_variable\n",
    "\n",
    "print(int_plus_float)"
   ]
  },
  {
   "cell_type": "code",
   "execution_count": null,
   "metadata": {},
   "outputs": [],
   "source": [
    "# print the type of int_plus_float\n",
    "# what do you reckon it shall be?\n",
    "\n",
    "raise NotImplementedError(\"Student exercise: Print type of int_plus_float variable\")"
   ]
  },
  {
   "cell_type": "code",
   "execution_count": null,
   "metadata": {},
   "outputs": [],
   "source": [
    "add_two_strings = string_type_variable + another_string\n",
    "print(add_two_strings)\n",
    "print(type(add_two_strings))"
   ]
  },
  {
   "cell_type": "code",
   "execution_count": null,
   "metadata": {},
   "outputs": [],
   "source": [
    "# This shall cause an error can you guess why?\n",
    "\n",
    "float_plus_string = string_type_variable + float_type_variable\n",
    "print(float_plus_string)\n",
    "print(type(float_type_variable))"
   ]
  },
  {
   "cell_type": "markdown",
   "metadata": {
    "id": "jVBnEU41ERl7"
   },
   "source": [
    "## Arithmetic Operators\n",
    "\n",
    "Arithmetic operators are used to perform mathematical operations like addition, subtraction, multiplication and division.\n",
    "\n",
    "| Symbol | Task Performed |\n",
    "|----|---|\n",
    "| +  | Addition |\n",
    "| -  | Subtraction |\n",
    "| /  | division |\n",
    "| %  | mod |\n",
    "| *  | multiplication |\n",
    "| //  | floor division |\n",
    "| **  | to the power of |"
   ]
  },
  {
   "cell_type": "code",
   "execution_count": null,
   "metadata": {
    "colab": {
     "base_uri": "https://localhost:8080/",
     "height": 235
    },
    "id": "4s9byW-3ERNu",
    "outputId": "b672ff4a-7371-408a-b54a-b67b2909bfdc"
   },
   "outputs": [],
   "source": [
    "# here's how you can print the sum of x and y\n",
    "print(\"Sum of x and y:\", x + y)\n",
    "\n",
    "# try printing the product of x and y\n",
    "raise NotImplementedError(\"Student exercise: Print product of x and y\")\n",
    "print(\"Sum of x and y:\", ...)"
   ]
  },
  {
   "cell_type": "code",
   "execution_count": null,
   "metadata": {
    "id": "7bwwaERiFe-K"
   },
   "outputs": [],
   "source": [
    "# try printing the value of 5 to the power of 3\n",
    "raise NotImplementedError(\"Student exercise: Print the value of 5 to the power of 3)\n",
    "print(...)"
   ]
  },
  {
   "cell_type": "code",
   "execution_count": null,
   "metadata": {
    "colab": {
     "base_uri": "https://localhost:8080/"
    },
    "id": "lRh0qmWRGMen",
    "outputId": "c076a9f8-b569-425f-f204-b8173a296cea"
   },
   "outputs": [],
   "source": [
    "# we can do the same thing using the pow function\n",
    "# let's look at 4 to the power of 5\n",
    "print(pow(4,5))"
   ]
  },
  {
   "cell_type": "markdown",
   "metadata": {
    "id": "isUhtQXLG4CN"
   },
   "source": [
    "## Moving towards Functions\n",
    "\n",
    "I do hope you understand what's happening with the function when you write pow(4, 5) it turns into 4<sup>5</sup>. It is just like the mathematical definition of what a function does when given an input.\n",
    "\n",
    "*f(x, y) = x + y*\n",
    "\n",
    "This means if in this function *f* a value of *x, y* are passed into it it shall always return the sum of it. In this next exercise we shall play with building our own functions and some in-built functions that Python provides."
   ]
  },
  {
   "cell_type": "code",
   "execution_count": null,
   "metadata": {
    "colab": {
     "base_uri": "https://localhost:8080/"
    },
    "id": "mE8sLTwVGxK-",
    "outputId": "65084378-6222-498d-d487-2dec278840e7"
   },
   "outputs": [],
   "source": [
    "def f(x, y):\n",
    "    print(x + y)\n",
    "\n",
    "f(x, y)"
   ]
  },
  {
   "cell_type": "code",
   "execution_count": null,
   "metadata": {
    "colab": {
     "base_uri": "https://localhost:8080/"
    },
    "id": "fare2CtLNH4w",
    "outputId": "cb44bf05-f87d-4284-cb06-4e2a10f71ec6"
   },
   "outputs": [],
   "source": [
    "def circumference_circle(x):\n",
    "    \"\"\"A function that prints the circumference of circle with radius x\n",
    "\n",
    "    Args:\n",
    "    x (int): Radius of the circle\n",
    "    \"\"\"\n",
    "    # try building your own function of the circumference of a circle\n",
    "    raise NotImplementedError(\"Student exercise: Print value of circumference of a circle\")\n",
    "    pi = 3.14\n",
    "    print(...)\n",
    "\n",
    "circumference_circle(5)"
   ]
  },
  {
   "cell_type": "code",
   "execution_count": null,
   "metadata": {
    "id": "vvdvn-A1O0wQ"
   },
   "outputs": [],
   "source": [
    "# ans: 78.5"
   ]
  },
  {
   "cell_type": "code",
   "execution_count": null,
   "metadata": {
    "id": "9i_6qNVEPVK8"
   },
   "outputs": [],
   "source": [
    "# there are some other really useful functions in python that are worth remembering\n",
    "\n",
    "# print(int(7.8))\n",
    "\n",
    "# print(range(0, 14))\n",
    "\n",
    "# print(range(0, 14, 2))"
   ]
  },
  {
   "cell_type": "markdown",
   "metadata": {
    "id": "ddKh7vAwQcGs"
   },
   "source": [
    "## Data Structures and Indexing\n",
    "\n",
    "We use data structures to create collections of specific data. You could always think of it like going to a supermarket, mom's made you a list of items you need to get.\n",
    "\n",
    "Try to add items to your shopping list below."
   ]
  },
  {
   "cell_type": "code",
   "execution_count": null,
   "metadata": {
    "id": "ZSCvN1cgQapc"
   },
   "outputs": [],
   "source": [
    "raise NotImplementedError(\"Student exercise: Add items to the shopping list\")\n",
    "shopping_list = [\"apples\", \"cereal\", \"rice\", ...]"
   ]
  },
  {
   "cell_type": "code",
   "execution_count": null,
   "metadata": {
    "id": "bhmmPdIbSMgO"
   },
   "outputs": [],
   "source": [
    "# now let's say you wanted to see the first item on the list\n",
    "print(shopping_list[0])\n",
    "\n",
    "# now let's say you wanted to see the second last item on the list\n",
    "raise NotImplementedError(\"Student exercise: See second last item on the shopping list\")\n",
    "print(shopping_list[...])"
   ]
  },
  {
   "cell_type": "code",
   "execution_count": null,
   "metadata": {
    "colab": {
     "base_uri": "https://localhost:8080/",
     "height": 235
    },
    "id": "D_j-qULdSilf",
    "outputId": "5de12df1-9ca2-4dc3-af9e-76457d79e418"
   },
   "outputs": [],
   "source": [
    "# how do we print all the items in the shopping list\n",
    "\n",
    "for item in shopping_list:\n",
    "    print(item)"
   ]
  },
  {
   "cell_type": "markdown",
   "metadata": {
    "id": "4MxiKFGiTZPs"
   },
   "source": [
    "## Iteration\n",
    "\n",
    "As a programmer I pray everyday to the power of for loops. It really is the only thing that puts us apart from any other professionals in the field, the power to repeat boring tasks that can literally sometimes take days to complete. \n",
    "\n",
    "(I secretly feel privileged introducing them to you in this tutorial)\n",
    "\n",
    "For loops, as mentioned, repeat tasks. They can do the same thing over and over again."
   ]
  },
  {
   "cell_type": "code",
   "execution_count": null,
   "metadata": {},
   "outputs": [],
   "source": [
    "# print all the values from 0, 18 that are even\n",
    "raise NotImplementedError(\"Student exercise: Print even valued intergers from 0 to 18\")\n"
   ]
  },
  {
   "cell_type": "code",
   "execution_count": null,
   "metadata": {},
   "outputs": [],
   "source": [
    "# Another example\n",
    "for letter in \"hello world\":\n",
    "    print(letter)"
   ]
  },
  {
   "cell_type": "code",
   "execution_count": null,
   "metadata": {},
   "outputs": [],
   "source": [
    "# loop through files in a directory"
   ]
  },
  {
   "cell_type": "markdown",
   "metadata": {
    "id": "0Um7Zv5bTNLa"
   },
   "source": [
    "## Control Flow\n",
    "\n",
    "How do we control where the water flows in the \n",
    "\n",
    "In the following exercise we look at [spike trains](https://www.khanacademy.org/test-prep/mcat/organ-systems/neuron-membrane-potentials/a/neuron-action-potentials-the-creation-of-a-brain-signal) being collected by electrodes."
   ]
  },
  {
   "cell_type": "code",
   "execution_count": 3,
   "metadata": {},
   "outputs": [
    {
     "name": "stdout",
     "output_type": "stream",
     "text": [
      "This is my favourite letter: o\n",
      "This is my favourite letter: o\n",
      "This is my favourite letter: d\n"
     ]
    }
   ],
   "source": [
    "# what do you reckon shall happen here?\n",
    "\n",
    "for letter in \"hello world\":\n",
    "    if letter == 'o' or letter == \"d\":\n",
    "        print(\"This is my favourite letter:\", letter)"
   ]
  },
  {
   "cell_type": "code",
   "execution_count": null,
   "metadata": {},
   "outputs": [],
   "source": [
    "# shhh.... There's a rogue amongus\n",
    "\n",
    "# An electrode has gone rouge in the lab, hurry you need to identify it before the lab results go wrong.\n",
    "# The identifying criteria sent to you by the lab is that this electrode spikes more than 80% of the time\n",
    "\n",
    "rogue_electrode = [1, 1, 1, 1, 1, 1, 1, 0, 1]\n",
    "normal_electrode = [0, 1, 1, 0, 0, 0, 1, 1, 1]\n",
    "\n",
    "raise NotImplementedError(\"Student exercise: Find the rouge electrode\")\n",
    "def find_rogue_electrode(electrode):\n",
    "    # ...\n",
    "    if (...):\n",
    "        print(\"This seems kinda sus... hmmm\")\n",
    "    else:\n",
    "        print(\"Yeah, we can trust this electrode.\")\n",
    "\n",
    "find_rogue_electrode(normal_electrode)\n",
    "find_rogue_electrode(rouge_electrode)"
   ]
  },
  {
   "cell_type": "markdown",
   "metadata": {},
   "source": [
    "### Extra Resources\n",
    "\n",
    "Want to learn programming try the bible: https://kremlin.cc/k&r.pdf (it doesn't get better than this)\n",
    "\n",
    "Want to learn more concepts in Python try: dictionaries, tuples, sets, functions, and classes and if you can take the CS50 course.\n",
    "\n",
    "Other than that if you really want to learn a language just build a project in it. Take up simple projects, like maybe a calculator application or a shopping cart calculator. Read up online how to do  "
   ]
  },
  {
   "cell_type": "code",
   "execution_count": null,
   "metadata": {},
   "outputs": [],
   "source": []
  }
 ],
 "metadata": {
  "colab": {
   "collapsed_sections": [],
   "name": "Tutorial1.ipynb",
   "provenance": []
  },
  "kernelspec": {
   "display_name": "Python 3",
   "language": "python",
   "name": "python3"
  },
  "language_info": {
   "codemirror_mode": {
    "name": "ipython",
    "version": 3
   },
   "file_extension": ".py",
   "mimetype": "text/x-python",
   "name": "python",
   "nbconvert_exporter": "python",
   "pygments_lexer": "ipython3",
   "version": "3.9.5"
  }
 },
 "nbformat": 4,
 "nbformat_minor": 1
}
