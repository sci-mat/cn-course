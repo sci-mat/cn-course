{
 "cells": [
  {
   "cell_type": "markdown",
   "id": "brutal-tunnel",
   "metadata": {},
   "source": [
    "## Math\n",
    "\n",
    "1. Sum all of the cubed positive integers up to $15^3$.\n",
    "\n",
    "2. Find the positive integer n such that $n + n^2 + n^3 + n^4 = 88740$.\n",
    "\n",
    "## File Handling\n",
    "\n",
    "3. There is a directory called \"images\" in this folder.\n",
    "+ (Level: easy) Can you loop through all the files and print their names.\n",
    "+ (Level: medium) Can you print all of the images, showing them in your notebook.\n",
    "\n",
    "## Lists + CSV\n",
    "\n",
    "4. There is a csv placed in the folder \"csv/\". Can you print all of the items in it using 2d lists (lists inside lists)"
   ]
  },
  {
   "cell_type": "markdown",
   "id": "featured-narrow",
   "metadata": {},
   "source": [
    "## Marking Scheme\n",
    "\n",
    "+ Question 1: 1 point\n",
    "+ Question 2: 2 points\n",
    "+ Question 3a: 2 points b: 3 points\n",
    "+ Question 4: 3 points\n",
    "\n",
    "Total: 11 points"
   ]
  },
  {
   "cell_type": "code",
   "execution_count": null,
   "id": "straight-closing",
   "metadata": {},
   "outputs": [],
   "source": []
  }
 ],
 "metadata": {
  "kernelspec": {
   "display_name": "Python 3",
   "language": "python",
   "name": "python3"
  },
  "language_info": {
   "codemirror_mode": {
    "name": "ipython",
    "version": 3
   },
   "file_extension": ".py",
   "mimetype": "text/x-python",
   "name": "python",
   "nbconvert_exporter": "python",
   "pygments_lexer": "ipython3",
   "version": "3.9.5"
  }
 },
 "nbformat": 4,
 "nbformat_minor": 5
}
