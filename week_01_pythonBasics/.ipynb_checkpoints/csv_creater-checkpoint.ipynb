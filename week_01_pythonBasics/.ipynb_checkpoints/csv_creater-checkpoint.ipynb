{
 "cells": [
  {
   "cell_type": "code",
   "execution_count": 1,
   "id": "medieval-standing",
   "metadata": {},
   "outputs": [],
   "source": [
    "# importing the csv module\n",
    "import csv\n",
    "  \n",
    "# field names\n",
    "fields = [\"Name\", \"Function\"]\n",
    "  \n",
    "# data rows of csv file\n",
    "rows = [\n",
    "    [\"Dendrites\", \"Dendrites are branch-like structures extending away from the cell body, and their job is to receive messages from other neurons and allow those messages to travel to the cell body.\"],\n",
    "    [\"Cell Body\", \"Like other cells, each neuron has a cell body (or soma) that contains a nucleus, smooth and rough endoplasmic reticulum, Golgi apparatus, mitochondria, and other cellular components.\"],\n",
    "    [\"Axon\", \"An axon, at its most basic, is a tube-like structure that carries an electrical impulse from the cell body\"],\n",
    "    [\"Synapse\", \"The synapse is the chemical junction between the axon terminals of one neuron and the dendrites of the next.\"],\n",
    "    [\"Myelin Sheath\", \"An external coating that functions as insulation to minimize dissipation of the electrical signal as it travels down the axon.\"]\n",
    "]\n",
    "# name of csv file\n",
    "filename = \"csv/neuron_parts.csv\"\n",
    "  \n",
    "# writing to csv file\n",
    "with open(filename, 'w') as csvfile:\n",
    "    # creating a csv writer object\n",
    "    csvwriter = csv.writer(csvfile)\n",
    "      \n",
    "    # writing the fields\n",
    "    csvwriter.writerow(fields)\n",
    "      \n",
    "    # writing the data rows\n",
    "    csvwriter.writerows(rows)"
   ]
  },
  {
   "cell_type": "code",
   "execution_count": null,
   "id": "enhanced-commonwealth",
   "metadata": {},
   "outputs": [],
   "source": []
  }
 ],
 "metadata": {
  "kernelspec": {
   "display_name": "Python 3",
   "language": "python",
   "name": "python3"
  },
  "language_info": {
   "codemirror_mode": {
    "name": "ipython",
    "version": 3
   },
   "file_extension": ".py",
   "mimetype": "text/x-python",
   "name": "python",
   "nbconvert_exporter": "python",
   "pygments_lexer": "ipython3",
   "version": "3.9.5"
  }
 },
 "nbformat": 4,
 "nbformat_minor": 5
}
